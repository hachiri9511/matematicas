{
 "cells": [
  {
   "cell_type": "code",
   "execution_count": null,
   "metadata": {},
   "outputs": [],
   "source": []
  },
  {
   "cell_type": "markdown",
   "metadata": {},
   "source": [
    "                                    proyecto de calculadora basica \n"
   ]
  },
  {
   "cell_type": "markdown",
   "metadata": {},
   "source": [
    "number  int input  = para  que trabaje con numeros enteros ya que sera una calculadora basica y el input para darle valores al texto \n",
    "\n",
    "number  int input = para que sean 2 valores para poder resolver los problemas \n",
    "\n",
    "eleccion5= 5        =   por que solo seran suma resta multiplicacion y resta y volver a ejecutar otra operacion ya que  no puede pasar  mayores de 5\n",
    "\n",
    "while true        = para generar un bucle segun la condicion que le daremos \n",
    "\n",
    "print   = para añadir texto  de suam resta multiplicacion suma division ya que el print combinara con los valores mas adelante\n",
    "\n",
    "eleccion  in input = haremos reconocer los valores con el texto que pusimos \n",
    "\n",
    "if eleccion = esto sirve para ejecutar  el codigo segun la funcion que le daremos ya sea suma resta multiplicion division\n",
    "\n",
    " y terminaremos con un break para detener el bucle \n",
    "\n"
   ]
  },
  {
   "cell_type": "markdown",
   "metadata": {},
   "source": []
  },
  {
   "cell_type": "code",
   "execution_count": null,
   "metadata": {},
   "outputs": [],
   "source": [
    "number1 = int(input(\"primer valor\"))\n",
    "number2 = int(input(\"segundo  valor\"))\n",
    "\n",
    "eleccion = 5\n",
    "while True:\n",
    "    print(\"\"\"\"\n",
    "    indique la operacion:\n",
    "    1)suma\n",
    "    2)Resta\n",
    "    3)division\n",
    "    4)multiplicacion\n",
    "    5)realizar otra operacion\"\"\")\n",
    "\n",
    "    eleccion = int(input())\n",
    "    if eleccion == 1:\n",
    "        print(\" \")\n",
    "        print(\"resultado:\", number1, \"+\", number2, \"=\", number1+number2)\n",
    "    elif eleccion == 2:\n",
    "        print(\"\")\n",
    "        print(\"resultado\", number1, \"-\", number2, \"=\", number1-number2)\n",
    "    elif eleccion == 3:\n",
    "        print(\"\")\n",
    "        print(\"resultado\", number1, \"/\", number2, \"=\", number1/number2)\n",
    "\n",
    "    elif eleccion == 4:\n",
    "        print(\"\")\n",
    "        print(\"resultado\", number1, \"*\", number2, \"=\", number1*number2)\n",
    "\n",
    "    elif eleccion == 5:\n",
    "        print(\"\")\n",
    "        number1 = int(input(\"primer valor\"))\n",
    "        number2 = int(input(\"segundo  valor\"))\n",
    "    eleccion = 0\n",
    "while True:\n",
    "    print(\"\"\"\"\n",
    "    indique la operacion:\n",
    "    1)suma\n",
    "    2)Resta\n",
    "    3)division\n",
    "    4)multiplicacion\n",
    "    5)realizar otra operacion\"\"\")\n",
    "\n",
    "    eleccion = int(input())\n",
    "    if eleccion == 1:\n",
    "        print(\" \")\n",
    "        print(\"resultado:\", number1, \"+\", number2, \"=\", number1+number2)\n",
    "    elif eleccion == 2:\n",
    "        print(\"\")\n",
    "        print(\"resultado\", number1, \"-\", number2, \"=\", number1-number2)\n",
    "    elif eleccion == 3:\n",
    "        print(\"\")\n",
    "        print(\"resultado\", number1, \"/\", number2, \"=\", number1/number2)\n",
    "\n",
    "    elif eleccion == 4:\n",
    "        print(\"\")\n",
    "        print(\"resultado\", number1, \"*\", number2, \"=\", number1*number2)\n",
    "\n",
    "        print(\"gracias por usar esta calculadora basica\")\n",
    "        break"
   ]
  }
 ],
 "metadata": {
  "language_info": {
   "name": "python"
  },
  "orig_nbformat": 4
 },
 "nbformat": 4,
 "nbformat_minor": 2
}
